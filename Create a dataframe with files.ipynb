{
 "cells": [
  {
   "cell_type": "code",
   "execution_count": 1,
   "id": "0445b7b1",
   "metadata": {},
   "outputs": [],
   "source": [
    "import pandas as pd\n",
    "import numpy as np\n",
    "import os"
   ]
  },
  {
   "cell_type": "code",
   "execution_count": 27,
   "id": "5530dedc",
   "metadata": {},
   "outputs": [],
   "source": [
    "root_folder = 'E:/Projects/factory_noises'"
   ]
  },
  {
   "cell_type": "code",
   "execution_count": 28,
   "id": "0dbe2a2a",
   "metadata": {},
   "outputs": [
    {
     "name": "stdout",
     "output_type": "stream",
     "text": [
      "-6_dB_fan\n",
      "fan\n",
      "id_00\n",
      "abnormal\n",
      "normal\n",
      "id_02\n",
      "abnormal\n",
      "normal\n",
      "id_04\n",
      "abnormal\n",
      "normal\n",
      "id_06\n",
      "abnormal\n",
      "normal\n"
     ]
    }
   ],
   "source": [
    "anomaly_files = []\n",
    "for dB_folder in os.listdir(root_folder):\n",
    "    dB_folder_path = os.path.join(root_folder, dB_folder)\n",
    "    if os.path.isdir(dB_folder_path):\n",
    "        print(dB_folder)\n",
    "        for machine_folder in os.listdir(dB_folder_path):\n",
    "            machine_folder_path = os.path.join(dB_folder_path,machine_folder)\n",
    "            if os.path.isdir(machine_folder_path):\n",
    "                print(machine_folder)\n",
    "                for machine_type_folder in os.listdir(machine_folder_path):\n",
    "                    machine_type_folder_path = os.path.join(machine_folder_path,machine_type_folder)\n",
    "                    if os.path.isdir(machine_type_folder_path):\n",
    "                        print(machine_type_folder)  \n",
    "                        for state_folder in os.listdir(machine_type_folder_path):\n",
    "                            state_folder_path = os.path.join(machine_type_folder_path,state_folder)\n",
    "                            if os.path.isdir(state_folder_path):\n",
    "                                print(state_folder)\n",
    "                                for file in os.listdir(state_folder_path):\n",
    "                                      anomaly_files.append({\n",
    "                                            'file' : file,\n",
    "                                            'state' : state_folder,\n",
    "                                            'machine_type' : machine_type_folder,\n",
    "                                            'machine' : machine_folder,\n",
    "                                            'dB' : dB_folder,\n",
    "                                            'file_path' : os.path.join(state_folder_path, file)\n",
    "                                        })"
   ]
  },
  {
   "cell_type": "code",
   "execution_count": 29,
   "id": "eaf6cc44",
   "metadata": {},
   "outputs": [],
   "source": [
    "df = pd.DataFrame(anomaly_files)"
   ]
  },
  {
   "cell_type": "code",
   "execution_count": 30,
   "id": "11f43403",
   "metadata": {},
   "outputs": [
    {
     "data": {
      "text/html": [
       "<div>\n",
       "<style scoped>\n",
       "    .dataframe tbody tr th:only-of-type {\n",
       "        vertical-align: middle;\n",
       "    }\n",
       "\n",
       "    .dataframe tbody tr th {\n",
       "        vertical-align: top;\n",
       "    }\n",
       "\n",
       "    .dataframe thead th {\n",
       "        text-align: right;\n",
       "    }\n",
       "</style>\n",
       "<table border=\"1\" class=\"dataframe\">\n",
       "  <thead>\n",
       "    <tr style=\"text-align: right;\">\n",
       "      <th></th>\n",
       "      <th>file</th>\n",
       "      <th>state</th>\n",
       "      <th>machine_type</th>\n",
       "      <th>machine</th>\n",
       "      <th>dB</th>\n",
       "      <th>file_path</th>\n",
       "    </tr>\n",
       "  </thead>\n",
       "  <tbody>\n",
       "    <tr>\n",
       "      <th>0</th>\n",
       "      <td>00000000.wav</td>\n",
       "      <td>abnormal</td>\n",
       "      <td>id_00</td>\n",
       "      <td>fan</td>\n",
       "      <td>-6_dB_fan</td>\n",
       "      <td>E:/Projects/factory_noises\\-6_dB_fan\\fan\\id_00...</td>\n",
       "    </tr>\n",
       "    <tr>\n",
       "      <th>1</th>\n",
       "      <td>00000001.wav</td>\n",
       "      <td>abnormal</td>\n",
       "      <td>id_00</td>\n",
       "      <td>fan</td>\n",
       "      <td>-6_dB_fan</td>\n",
       "      <td>E:/Projects/factory_noises\\-6_dB_fan\\fan\\id_00...</td>\n",
       "    </tr>\n",
       "    <tr>\n",
       "      <th>2</th>\n",
       "      <td>00000002.wav</td>\n",
       "      <td>abnormal</td>\n",
       "      <td>id_00</td>\n",
       "      <td>fan</td>\n",
       "      <td>-6_dB_fan</td>\n",
       "      <td>E:/Projects/factory_noises\\-6_dB_fan\\fan\\id_00...</td>\n",
       "    </tr>\n",
       "    <tr>\n",
       "      <th>3</th>\n",
       "      <td>00000003.wav</td>\n",
       "      <td>abnormal</td>\n",
       "      <td>id_00</td>\n",
       "      <td>fan</td>\n",
       "      <td>-6_dB_fan</td>\n",
       "      <td>E:/Projects/factory_noises\\-6_dB_fan\\fan\\id_00...</td>\n",
       "    </tr>\n",
       "    <tr>\n",
       "      <th>4</th>\n",
       "      <td>00000004.wav</td>\n",
       "      <td>abnormal</td>\n",
       "      <td>id_00</td>\n",
       "      <td>fan</td>\n",
       "      <td>-6_dB_fan</td>\n",
       "      <td>E:/Projects/factory_noises\\-6_dB_fan\\fan\\id_00...</td>\n",
       "    </tr>\n",
       "  </tbody>\n",
       "</table>\n",
       "</div>"
      ],
      "text/plain": [
       "           file     state machine_type machine         dB  \\\n",
       "0  00000000.wav  abnormal        id_00     fan  -6_dB_fan   \n",
       "1  00000001.wav  abnormal        id_00     fan  -6_dB_fan   \n",
       "2  00000002.wav  abnormal        id_00     fan  -6_dB_fan   \n",
       "3  00000003.wav  abnormal        id_00     fan  -6_dB_fan   \n",
       "4  00000004.wav  abnormal        id_00     fan  -6_dB_fan   \n",
       "\n",
       "                                           file_path  \n",
       "0  E:/Projects/factory_noises\\-6_dB_fan\\fan\\id_00...  \n",
       "1  E:/Projects/factory_noises\\-6_dB_fan\\fan\\id_00...  \n",
       "2  E:/Projects/factory_noises\\-6_dB_fan\\fan\\id_00...  \n",
       "3  E:/Projects/factory_noises\\-6_dB_fan\\fan\\id_00...  \n",
       "4  E:/Projects/factory_noises\\-6_dB_fan\\fan\\id_00...  "
      ]
     },
     "execution_count": 30,
     "metadata": {},
     "output_type": "execute_result"
    }
   ],
   "source": [
    "df.head()"
   ]
  },
  {
   "cell_type": "code",
   "execution_count": 31,
   "id": "8000b9ce",
   "metadata": {},
   "outputs": [],
   "source": [
    "df.to_csv('anomaly_files.csv')"
   ]
  },
  {
   "cell_type": "code",
   "execution_count": null,
   "id": "718ca61a",
   "metadata": {},
   "outputs": [],
   "source": []
  }
 ],
 "metadata": {
  "kernelspec": {
   "display_name": "Python 3 (ipykernel)",
   "language": "python",
   "name": "python3"
  },
  "language_info": {
   "codemirror_mode": {
    "name": "ipython",
    "version": 3
   },
   "file_extension": ".py",
   "mimetype": "text/x-python",
   "name": "python",
   "nbconvert_exporter": "python",
   "pygments_lexer": "ipython3",
   "version": "3.9.4"
  }
 },
 "nbformat": 4,
 "nbformat_minor": 5
}
