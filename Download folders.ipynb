{
 "cells": [
  {
   "cell_type": "code",
   "execution_count": 1,
   "id": "a811d746",
   "metadata": {},
   "outputs": [],
   "source": [
    "# download folders\n",
    "\n",
    "import urllib.request"
   ]
  },
  {
   "cell_type": "code",
   "execution_count": null,
   "id": "1846987c",
   "metadata": {},
   "outputs": [],
   "source": [
    "\n",
    "dB_list = [-6, 0, 6]\n",
    "machine_list = ['fan', 'pump', 'slider', 'valve']\n",
    "for dB in dB_list:\n",
    "    for machine in machine_list:\n",
    "    url = f'https://zenodo.org/record/3384388/files/{dB}_dB_{machine}.zip?download=1'\n",
    "    \n",
    "    print(f'Beginning downloading audio files  for {}')\n",
    "    urllib.request.urlretrieve(url, 'E:/Projects/factory_noises')\n",
    "    print(f'{url} has been downloaded')"
   ]
  },
  {
   "cell_type": "code",
   "execution_count": null,
   "id": "51c49274",
   "metadata": {},
   "outputs": [],
   "source": [
    "https://zenodo.org/record/3384388/files/-6_dB_fan.zip?download=1\n",
    "https://zenodo.org/record/3384388/files/-6_dB_pump.zip?download=1\n",
    "https://zenodo.org/record/3384388/files/-6_dB_slider.zip?download=1\n",
    "https://zenodo.org/record/3384388/files/-6_dB_valve.zip?download=1\n",
    "https://zenodo.org/record/3384388/files/0_dB_fan.zip?download=1\n",
    "https://zenodo.org/record/3384388/files/6_dB_fan.zip?download=1    "
   ]
  }
 ],
 "metadata": {
  "kernelspec": {
   "display_name": "Python 3 (ipykernel)",
   "language": "python",
   "name": "python3"
  },
  "language_info": {
   "codemirror_mode": {
    "name": "ipython",
    "version": 3
   },
   "file_extension": ".py",
   "mimetype": "text/x-python",
   "name": "python",
   "nbconvert_exporter": "python",
   "pygments_lexer": "ipython3",
   "version": "3.9.4"
  }
 },
 "nbformat": 4,
 "nbformat_minor": 5
}
