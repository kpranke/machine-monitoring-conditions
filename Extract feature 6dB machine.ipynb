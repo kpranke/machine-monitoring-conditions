{
 "cells": [
  {
   "cell_type": "code",
   "execution_count": null,
   "id": "2fbc688e",
   "metadata": {},
   "outputs": [],
   "source": [
    "import pandas as pd\n",
    "import numpy as np\n",
    "import matplotlib.pyplot as plt\n",
    "%matplotlib inline\n",
    "import seaborn\n",
    "import librosa\n",
    "import librosa.display\n",
    "import IPython.display as ipd \n",
    "import os\n",
    "import csv"
   ]
  },
  {
   "cell_type": "code",
   "execution_count": null,
   "id": "040eb568",
   "metadata": {},
   "outputs": [],
   "source": [
    "def slice_dataframe(machine):\n",
    "    df = pd.read_csv('anomaly_files.csv')\n",
    "    df_machine_sounds_abnorm = df[(df.dB == f'6_dB_{machine}') & (df.state == 'abnormal')]\n",
    "    df_machine_sounds_norm = df[(df.dB == f'6_dB_{machine}') & (df.state == 'normal')]\n",
    "    \n",
    "    return df_machine_sounds_abnorm, df_machine_sounds_norm"
   ]
  },
  {
   "cell_type": "code",
   "execution_count": null,
   "id": "5a6365cd",
   "metadata": {},
   "outputs": [],
   "source": [
    "def extract_feature(file_path, target):\n",
    "    X, sample_rate = librosa.load(file_path)\n",
    "\n",
    "    feature_dict = {}\n",
    "    \n",
    "    mfccs = np.mean(librosa.feature.mfcc(y=X, sr=sample_rate, n_mfcc=13).T,axis=0)\n",
    "    for idx, item in enumerate(mfccs):\n",
    "        feature_dict[f'mfccs{idx}'] = item\n",
    "        \n",
    "    delta_mfccs = librosa.feature.delta(mfccs)\n",
    "    for idx, item in enumerate(delta_mfccs):\n",
    "        feature_dict[f'delta_mfccs{idx}'] = item\n",
    "        \n",
    "    delta2_mfccs = librosa.feature.delta(mfccs, order=2)\n",
    "    for idx, item in enumerate(delta2_mfccs):\n",
    "        feature_dict[f'delta2_mfccs{idx}'] = item\n",
    "\n",
    "    feature_dict['target'] = target\n",
    "    return feature_dict"
   ]
  },
  {
   "cell_type": "code",
   "execution_count": null,
   "id": "7474f2ac",
   "metadata": {},
   "outputs": [],
   "source": [
    "def get_features(df_path, target):\n",
    "    features = []\n",
    "    for row in df_path.file_path:\n",
    "        features.append(extract_feature(row, target))\n",
    "        print(f'Extracted features for {row}')\n",
    "    df_features = pd.DataFrame(features)    \n",
    "    return df_features    "
   ]
  },
  {
   "cell_type": "code",
   "execution_count": null,
   "id": "ae81e57c",
   "metadata": {},
   "outputs": [],
   "source": [
    "def store_features(df_norm, df_abnorm, features_file_name):\n",
    "    df_features = pd.concat([df_norm, df_abnorm])\n",
    "    df_features.to_csv(features_file_name)"
   ]
  },
  {
   "cell_type": "code",
   "execution_count": null,
   "id": "42714ebd",
   "metadata": {},
   "outputs": [],
   "source": [
    "def retrieve_and_store_feature(machine, features_file_name):\n",
    "    print('slicing dataframe')\n",
    "    df_machine_sounds_abnorm, df_machine_sounds_norm = slice_dataframe(machine)\n",
    "    \n",
    "    print('getting features')\n",
    "    df_norm = get_features(df_machine_sounds_norm, 1)\n",
    "    df_abnorm = get_features(df_machine_sounds_abnorm, 0)\n",
    "    \n",
    "    print('storing features')\n",
    "    store_features(df_norm, df_abnorm, features_file_name)"
   ]
  },
  {
   "cell_type": "code",
   "execution_count": null,
   "id": "f403aef8",
   "metadata": {},
   "outputs": [],
   "source": [
    "retrieve_and_store_feature('valve', 'df_6dB_valve_fe_ta_imb.csv')"
   ]
  },
  {
   "cell_type": "code",
   "execution_count": null,
   "id": "0f4e3360",
   "metadata": {},
   "outputs": [],
   "source": [
    "retrieve_and_store_feature('slider', 'df_6dB_slider_fe_ta_imb.csv')"
   ]
  },
  {
   "cell_type": "code",
   "execution_count": null,
   "id": "f41eebf9",
   "metadata": {},
   "outputs": [],
   "source": [
    "retrieve_and_store_feature('fan', 'df_6dB_fan_fe_ta_imb.csv')"
   ]
  },
  {
   "cell_type": "code",
   "execution_count": null,
   "id": "63682537",
   "metadata": {},
   "outputs": [],
   "source": [
    "retrieve_and_store_feature('pump', 'df_6dB_pump_fe_ta_imb.csv')"
   ]
  }
 ],
 "metadata": {
  "kernelspec": {
   "display_name": "Python 3 (ipykernel)",
   "language": "python",
   "name": "python3"
  },
  "language_info": {
   "codemirror_mode": {
    "name": "ipython",
    "version": 3
   },
   "file_extension": ".py",
   "mimetype": "text/x-python",
   "name": "python",
   "nbconvert_exporter": "python",
   "pygments_lexer": "ipython3",
   "version": "3.9.4"
  }
 },
 "nbformat": 4,
 "nbformat_minor": 5
}
