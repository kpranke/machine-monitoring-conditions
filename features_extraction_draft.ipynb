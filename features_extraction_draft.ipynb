{
 "cells": [
  {
   "cell_type": "code",
   "execution_count": 4,
   "id": "6f88390d-7e66-4272-a8dc-dd9307861947",
   "metadata": {},
   "outputs": [],
   "source": [
    "# Import libraries\n",
    "import sys\n",
    "import os\n",
    "import numpy as np\n",
    "import pandas as pd\n",
    "import sklearn as sk\n",
    "from os import listdir\n",
    "from os.path import isfile, join\n",
    "from timeit import default_timer as timer\n",
    "\n",
    "from sklearn.preprocessing import OneHotEncoder, LabelEncoder\n",
    "from six.moves import cPickle as pickle\n",
    "from six.moves import range\n",
    "\n",
    "import librosa\n",
    "import soundfile as sf"
   ]
  },
  {
   "cell_type": "code",
   "execution_count": 5,
   "id": "b96c8121-1962-44c1-8220-194c58c46043",
   "metadata": {},
   "outputs": [],
   "source": [
    "def extract_feature(file_name: str) -> tuple:\n",
    "    X, sample_rate = librosa.load(file_name)\n",
    "    stft = np.abs(librosa.stft(X))\n",
    "    mfccs = np.mean(librosa.feature.mfcc(y=X, sr=sample_rate, n_mfcc=40).T,axis=0)\n",
    "    chroma = np.mean(librosa.feature.chroma_stft(S=stft, sr=sample_rate).T,axis=0)\n",
    "    mel = np.mean(librosa.feature.melspectrogram(X, sr=sample_rate).T,axis=0)\n",
    "    contrast = np.mean(librosa.feature.spectral_contrast(S=stft, sr=sample_rate).T,axis=0)\n",
    "    tonnetz = np.mean(librosa.feature.tonnetz(y=librosa.effects.harmonic(X), sr=sample_rate).T,axis=0)\n",
    "    return mfccs,chroma,mel,contrast,tonnetz"
   ]
  },
  {
   "cell_type": "code",
   "execution_count": 7,
   "id": "ceb3ad29-75a8-423e-b2c3-f0954264150e",
   "metadata": {},
   "outputs": [
    {
     "name": "stdout",
     "output_type": "stream",
     "text": [
      "time to extract features from one file: 0.036sec\n"
     ]
    }
   ],
   "source": [
    "#Extract features for one file\n",
    "start_time = timer()\n",
    "mfccs,chroma,mel,contrast,tonnetz = extract_feature('0_dB_fan/id_00/normal/00000000.wav')\n",
    "end_time = timer()\n",
    "print('time to extract features from one file: {:.3f}sec'.format((end_time-start_time)/60))"
   ]
  },
  {
   "cell_type": "code",
   "execution_count": 17,
   "id": "9a1694a1-09ff-46e6-9dd4-a1212c322748",
   "metadata": {},
   "outputs": [
    {
     "name": "stdout",
     "output_type": "stream",
     "text": [
      "time to extract features: 23.273sec\n"
     ]
    }
   ],
   "source": [
    "#Automated extraction of features for one folder\n",
    "start_time = timer()\n",
    "features = []\n",
    "path = '0_dB_fan/id_00/normal/'\n",
    "for root, dirs, files in os.walk(path, topdown = True):\n",
    "    for name in files:\n",
    "        file = path + name\n",
    "        mfccs,chroma,mel,contrast,tonnetz = extract_feature(file)\n",
    "        features.append([file,mfccs,chroma,mel,contrast,tonnetz])\n",
    "end_time = timer()\n",
    "print('time to extract features: {:.3f}sec'.format((end_time-start_time)/60))"
   ]
  },
  {
   "cell_type": "code",
   "execution_count": 18,
   "id": "e7a22580-2cec-4517-9569-508e4b9bb0bc",
   "metadata": {},
   "outputs": [
    {
     "data": {
      "text/plain": [
       "1396.3924257030012"
      ]
     },
     "execution_count": 18,
     "metadata": {},
     "output_type": "execute_result"
    }
   ],
   "source": [
    "df = pd.DataFrame(features, columns=[\"file\",\"mfccs\",\"chroma\",\"mel\",\"contrast\",\"tonnetz\"])\n",
    "df.to_csv('Features_0_dB_fan_id00_normal.csv', index=False)\n",
    "s = start_time\n",
    "e = end_time\n",
    "e-s"
   ]
  },
  {
   "cell_type": "code",
   "execution_count": 19,
   "id": "72688b39-2401-4e19-b77e-feaa1112a7f2",
   "metadata": {},
   "outputs": [],
   "source": [
    "#Read and add target column\n",
    "df_normal = pd.read_csv('Features_0_dB_fan_id00_normal.csv')\n",
    "df_abnormal = pd.read_csv('Features_0_dB_fan_id00_abnormal.csv')\n",
    "df_normal = df_normal.head(407)\n",
    "df_normal.shape\n",
    "target_abnormal = ['abnormal']*407\n",
    "df_abnormal['target'] = target_abnormal\n",
    "df_abnormal\n",
    "target_normal = ['normal']*407\n",
    "df_normal['target'] = target_normal\n",
    "#concatenate\n",
    "df_0dBfan_id00 = pd.concat([df_normal,df_abnormal])\n",
    "df_0dBfan_id00.to_csv('df_0dBfan_id00.csv', index=False)"
   ]
  }
 ],
 "metadata": {
  "kernelspec": {
   "display_name": "Python 3 (ipykernel)",
   "language": "python",
   "name": "python3"
  },
  "language_info": {
   "codemirror_mode": {
    "name": "ipython",
    "version": 3
   },
   "file_extension": ".py",
   "mimetype": "text/x-python",
   "name": "python",
   "nbconvert_exporter": "python",
   "pygments_lexer": "ipython3",
   "version": "3.8.10"
  }
 },
 "nbformat": 4,
 "nbformat_minor": 5
}
