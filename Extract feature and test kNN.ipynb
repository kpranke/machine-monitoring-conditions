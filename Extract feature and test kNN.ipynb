{
 "cells": [
  {
   "cell_type": "code",
   "execution_count": 5,
   "id": "00b56c50",
   "metadata": {},
   "outputs": [],
   "source": [
    "import pandas as pd\n",
    "import numpy as np\n",
    "import matplotlib.pyplot as plt\n",
    "%matplotlib inline\n",
    "import seaborn\n",
    "import librosa\n",
    "import librosa.display\n",
    "import IPython.display as ipd "
   ]
  },
  {
   "cell_type": "code",
   "execution_count": 6,
   "id": "880666bb",
   "metadata": {},
   "outputs": [],
   "source": [
    "import sklearn as sk\n",
    "from sklearn.preprocessing import OneHotEncoder, LabelEncoder"
   ]
  },
  {
   "cell_type": "code",
   "execution_count": 13,
   "id": "6176ac7c",
   "metadata": {},
   "outputs": [],
   "source": [
    "file_name = \"E:/Projects/factory_noises/-6_dB_fan/fan/id_00/abnormal/00000000.wav\""
   ]
  },
  {
   "cell_type": "code",
   "execution_count": 14,
   "id": "3f408708",
   "metadata": {},
   "outputs": [],
   "source": [
    "def extract_feature(file_name):\n",
    "    X, sample_rate = librosa.load(file_name)\n",
    "\n",
    "    # sftf\n",
    "    stft = np.abs(librosa.stft(X))\n",
    "\n",
    "    # mfcc\n",
    "    mfccs = np.mean(librosa.feature.mfcc(y=X, sr=sample_rate, n_mfcc=40).T,axis=0)\n",
    "\n",
    "    # chroma\n",
    "    chroma = np.mean(librosa.feature.chroma_stft(S=stft, sr=sample_rate).T,axis=0)\n",
    "\n",
    "    # melspectrogram\n",
    "    mel = np.mean(librosa.feature.melspectrogram(X, sr=sample_rate).T,axis=0)\n",
    "\n",
    "    # spectral contrast\n",
    "    contrast = np.mean(librosa.feature.spectral_contrast(S=stft, sr=sample_rate).T,axis=0)\n",
    "\n",
    "    tonnetz = np.mean(librosa.feature.tonnetz(y=librosa.effects.harmonic(X), sr=sample_rate).T,axis=0)\n",
    "    \n",
    "    return mfccs,chroma,mel,contrast,tonnetz"
   ]
  },
  {
   "cell_type": "code",
   "execution_count": 15,
   "id": "fc4b84b7",
   "metadata": {},
   "outputs": [
    {
     "data": {
      "text/plain": [
       "(array([-364.5717   ,  166.06549  ,  -33.734016 ,   54.899452 ,\n",
       "         -37.32164  ,   38.491657 ,  -22.788269 ,   32.459522 ,\n",
       "          -0.7616068,    1.096578 ,   -1.9819955,    1.9596686,\n",
       "           7.131522 ,   -3.7504678,   22.208961 ,   -6.2551794,\n",
       "          13.383363 ,  -11.525628 ,    5.370641 ,   -2.8982475,\n",
       "           0.7855515,    7.5751686,   -8.302987 ,   -1.015255 ,\n",
       "          -9.16558  ,    1.9314033,   -5.5575066,    8.585413 ,\n",
       "           2.479782 ,    4.346129 ,   -6.6728425,   -7.202294 ,\n",
       "           2.0274394,    1.3539858,    7.414005 ,   -3.0526466,\n",
       "          -0.6495085,  -12.275102 ,   -2.6267314,   -3.5094275],\n",
       "       dtype=float32),\n",
       " array([0.5934977 , 0.52214664, 0.65450674, 0.64531225, 0.45443103,\n",
       "        0.43772778, 0.5164612 , 0.45712885, 0.5967617 , 0.59716886,\n",
       "        0.70899177, 0.99653405], dtype=float32),\n",
       " array([7.53737018e-02, 9.36119854e-01, 1.08929658e+00, 9.34863985e-02,\n",
       "        3.10630351e-01, 2.29058251e-01, 5.32274544e-02, 6.30522072e-02,\n",
       "        4.39499430e-02, 3.25247236e-02, 3.38534079e-02, 4.52772863e-02,\n",
       "        2.24774051e-02, 1.90686993e-02, 1.62496790e-02, 6.98061213e-02,\n",
       "        9.56430659e-02, 4.95917276e-02, 6.86230138e-02, 2.63428204e-02,\n",
       "        1.44192865e-02, 8.83609429e-03, 2.28747707e-02, 3.80459055e-02,\n",
       "        7.38089392e-03, 6.46878639e-03, 7.72652868e-03, 1.94815528e-02,\n",
       "        4.40379716e-02, 7.53474887e-03, 1.02269799e-02, 1.30179422e-02,\n",
       "        1.67110451e-02, 8.97412002e-03, 6.55449089e-03, 1.57907009e-02,\n",
       "        6.13139533e-02, 3.03441882e-01, 1.30928949e-01, 1.18982727e-02,\n",
       "        4.43390664e-03, 2.41934368e-03, 1.99019932e-03, 2.20009894e-03,\n",
       "        5.84535208e-03, 5.49136614e-03, 5.14892256e-03, 2.56772805e-03,\n",
       "        1.85842346e-03, 1.24616607e-03, 1.45995629e-03, 1.58701243e-03,\n",
       "        3.36979982e-03, 3.28586553e-03, 1.13948283e-03, 8.74378893e-04,\n",
       "        8.86234513e-04, 8.38291598e-04, 1.16590457e-03, 8.28525401e-04,\n",
       "        8.09484744e-04, 8.12187616e-04, 1.00388890e-03, 3.19151115e-03,\n",
       "        2.24294350e-03, 6.82179118e-04, 7.57255300e-04, 9.08835325e-04,\n",
       "        1.10443367e-03, 1.36666384e-03, 1.18115137e-03, 1.60355633e-03,\n",
       "        1.60874345e-03, 1.23190857e-03, 7.51192216e-04, 5.29025798e-04,\n",
       "        5.04512223e-04, 2.97482591e-04, 2.46892712e-04, 2.26006436e-04,\n",
       "        1.78328919e-04, 1.73292166e-04, 1.56234571e-04, 1.58020717e-04,\n",
       "        1.70474494e-04, 1.65254096e-04, 1.81009484e-04, 1.85804383e-04,\n",
       "        1.97136134e-04, 1.40602569e-04, 1.39423311e-04, 1.69687337e-04,\n",
       "        1.73497800e-04, 2.20509755e-04, 3.26448324e-04, 3.80346144e-04,\n",
       "        3.48965754e-04, 3.17083090e-04, 2.64923554e-04, 2.13462699e-04,\n",
       "        1.43310390e-04, 1.09940891e-04, 1.02195532e-04, 7.48120583e-05,\n",
       "        5.76119055e-05, 7.24035344e-05, 7.35387803e-05, 1.21652614e-04,\n",
       "        1.62847704e-04, 1.02729151e-04, 7.45965590e-05, 7.24761703e-05,\n",
       "        9.40987957e-05, 9.66747320e-05, 2.35796997e-05, 1.11710563e-06,\n",
       "        2.13862172e-08, 1.52874406e-08, 1.33704319e-08, 1.19907018e-08,\n",
       "        1.09235234e-08, 1.00981872e-08, 9.43680689e-09, 8.90979646e-09,\n",
       "        8.50211279e-09, 8.19068635e-09, 7.97499755e-09, 7.84112064e-09],\n",
       "       dtype=float32),\n",
       " array([22.61550615, 11.03865166, 15.19212926, 19.58924797, 15.81738138,\n",
       "        14.83637276, 67.7413565 ]),\n",
       " array([-0.00599192,  0.19378819,  0.02656279,  0.22368568, -0.01830914,\n",
       "         0.10426098]))"
      ]
     },
     "execution_count": 15,
     "metadata": {},
     "output_type": "execute_result"
    }
   ],
   "source": [
    "extract_feature(file_name)"
   ]
  },
  {
   "cell_type": "code",
   "execution_count": null,
   "id": "c34b6aba",
   "metadata": {},
   "outputs": [],
   "source": []
  }
 ],
 "metadata": {
  "kernelspec": {
   "display_name": "Python 3 (ipykernel)",
   "language": "python",
   "name": "python3"
  },
  "language_info": {
   "codemirror_mode": {
    "name": "ipython",
    "version": 3
   },
   "file_extension": ".py",
   "mimetype": "text/x-python",
   "name": "python",
   "nbconvert_exporter": "python",
   "pygments_lexer": "ipython3",
   "version": "3.9.4"
  }
 },
 "nbformat": 4,
 "nbformat_minor": 5
}
